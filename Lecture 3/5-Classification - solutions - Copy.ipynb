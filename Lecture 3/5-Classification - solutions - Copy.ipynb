{
 "cells": [
  {
   "cell_type": "markdown",
   "metadata": {},
   "source": [
    "# Introduction to Business Analytics\n",
    "\n",
    "## Lecture 3 - Classification"
   ]
  },
  {
   "cell_type": "markdown",
   "metadata": {},
   "source": [
    "So, it's time to learn about Classification models. This notebook will run you through the essential concepts, and give examples on how to run multiple Classification algorithms.\n"
   ]
  },
  {
   "cell_type": "markdown",
   "metadata": {},
   "source": [
    "As always, let's do some imports. "
   ]
  },
  {
   "cell_type": "code",
   "execution_count": 1,
   "metadata": {},
   "outputs": [],
   "source": [
    "import numpy as np\n",
    "import matplotlib.pyplot as plt\n",
    "import pandas as pd\n",
    "%matplotlib inline"
   ]
  },
  {
   "cell_type": "markdown",
   "metadata": {},
   "source": [
    "-----"
   ]
  },
  {
   "cell_type": "markdown",
   "metadata": {},
   "source": [
    "## Part 1 - Logistic Regression"
   ]
  },
  {
   "cell_type": "markdown",
   "metadata": {},
   "source": [
    "_The first model of the lecture relates with Logistic Regression. It is important that you understand the mechanics well, because their are applicable in other types of Classification models_"
   ]
  },
  {
   "cell_type": "markdown",
   "metadata": {},
   "source": [
    "We want you to understand the intuition behind the logit function, so let's work on the basics. Imagine you want to make a function that determines the probability of some event (let's call it x). The \"event\" x could simply mean that \"the input data corresponds to class 1\" (in which case, ~x means \"the input data corresponds to class 0\"). "
   ]
  },
  {
   "cell_type": "markdown",
   "metadata": {},
   "source": [
    "So, to plot such a function, let's just create a vector with values between 0 and 1"
   ]
  },
  {
   "cell_type": "code",
   "execution_count": 48,
   "metadata": {},
   "outputs": [],
   "source": [
    "px=np.arange(0.0001, 1, 0.001)"
   ]
  },
  {
   "cell_type": "markdown",
   "metadata": {},
   "source": [
    "So, now we determine the odds ratio function"
   ]
  },
  {
   "cell_type": "code",
   "execution_count": 49,
   "metadata": {},
   "outputs": [],
   "source": [
    "y=px/(1-px)"
   ]
  },
  {
   "cell_type": "markdown",
   "metadata": {},
   "source": [
    "...and plot it"
   ]
  },
  {
   "cell_type": "code",
   "execution_count": 50,
   "metadata": {},
   "outputs": [
    {
     "data": {
      "image/png": "[encoded data removed]",
      "text/plain": [
       "<Figure size 432x288 with 1 Axes>"
      ]
     },
     "metadata": {
      "needs_background": "light"
     },
     "output_type": "display_data"
    }
   ],
   "source": [
    "plt.plot(y,px)\n",
    "plt.xlim([0,50])\n",
    "plt.xlabel(\"odds ratio\")\n",
    "plt.ylabel(\"p(x)\");"
   ]
  },
  {
   "cell_type": "markdown",
   "metadata": {},
   "source": [
    "As said in the class, this function form is not ideal at all. What happens if we apply the log?"
   ]
  },
  {
   "cell_type": "code",
   "execution_count": 51,
   "metadata": {},
   "outputs": [],
   "source": [
    "y=np.log(px/(1-px))"
   ]
  },
  {
   "cell_type": "markdown",
   "metadata": {},
   "source": [
    "It will be clear with in plot"
   ]
  },
  {
   "cell_type": "code",
   "execution_count": 52,
   "metadata": {},
   "outputs": [
    {
     "data": {
      "image/png": "[encoded data removed]",
      "text/plain": [
       "<Figure size 432x288 with 1 Axes>"
      ]
     },
     "metadata": {
      "needs_background": "light"
     },
     "output_type": "display_data"
    }
   ],
   "source": [
    "plt.plot(y,px)\n",
    "#plt.xlim([0,50])\n",
    "plt.xlabel(\"logit\")\n",
    "plt.ylabel(\"p(x)\");"
   ]
  },
  {
   "cell_type": "markdown",
   "metadata": {},
   "source": [
    "ok, now it seems much more balanced, doesn't it? \n",
    "\n",
    "Understanding this function is important:\n",
    "- What is the probability of x (p(x)) when the log odds ratio is 0? \n",
    "\n",
    "- What is the odds ratio itself? \n",
    "\n",
    "- What about the extremes (when is it 1 and when is it 0?)?"
   ]
  },
  {
   "cell_type": "markdown",
   "metadata": {},
   "source": [
    "------"
   ]
  },
  {
   "cell_type": "markdown",
   "metadata": {},
   "source": [
    "Let's start playing with data. First we need to load:"
   ]
  },
  {
   "cell_type": "code",
   "execution_count": 2,
   "metadata": {},
   "outputs": [],
   "source": [
    "f=pd.read_csv(\"NYC_taxis_weather_2016_with_dummies.csv\")"
   ]
  },
  {
   "cell_type": "markdown",
   "metadata": {},
   "source": [
    "Take a look at the dataframe yourself"
   ]
  },
  {
   "cell_type": "code",
   "execution_count": 3,
   "metadata": {},
   "outputs": [
    {
     "data": {
      "text/html": [
       "<div>\n",
       "<style scoped>\n",
       "    .dataframe tbody tr th:only-of-type {\n",
       "        vertical-align: middle;\n",
       "    }\n",
       "\n",
       "    .dataframe tbody tr th {\n",
       "        vertical-align: top;\n",
       "    }\n",
       "\n",
       "    .dataframe thead th {\n",
       "        text-align: right;\n",
       "    }\n",
       "</style>\n",
       "<table border=\"1\" class=\"dataframe\">\n",
       "  <thead>\n",
       "    <tr style=\"text-align: right;\">\n",
       "      <th></th>\n",
       "      <th>datetime</th>\n",
       "      <th>pickups1</th>\n",
       "      <th>pickups17_lag1</th>\n",
       "      <th>pickups17_lag2</th>\n",
       "      <th>pickups1_lag1</th>\n",
       "      <th>pickups1_lag2</th>\n",
       "      <th>pickups21_lag1</th>\n",
       "      <th>pickups21_lag2</th>\n",
       "      <th>pickups28_lag1</th>\n",
       "      <th>pickups28_lag2</th>\n",
       "      <th>...</th>\n",
       "      <th>fog</th>\n",
       "      <th>rain_drizzle</th>\n",
       "      <th>time_of_day_afternoon</th>\n",
       "      <th>time_of_day_afternoon rush</th>\n",
       "      <th>time_of_day_evening</th>\n",
       "      <th>time_of_day_lunch time</th>\n",
       "      <th>time_of_day_morning</th>\n",
       "      <th>time_of_day_morning rush</th>\n",
       "      <th>time_of_day_night</th>\n",
       "      <th>is_weekend</th>\n",
       "    </tr>\n",
       "  </thead>\n",
       "  <tbody>\n",
       "    <tr>\n",
       "      <th>0</th>\n",
       "      <td>2016-01-01 00:00:00</td>\n",
       "      <td>162</td>\n",
       "      <td>202.0</td>\n",
       "      <td>307.0</td>\n",
       "      <td>109.0</td>\n",
       "      <td>171.0</td>\n",
       "      <td>198.0</td>\n",
       "      <td>306.0</td>\n",
       "      <td>40.0</td>\n",
       "      <td>54.0</td>\n",
       "      <td>...</td>\n",
       "      <td>0</td>\n",
       "      <td>0</td>\n",
       "      <td>0</td>\n",
       "      <td>0</td>\n",
       "      <td>0</td>\n",
       "      <td>0</td>\n",
       "      <td>0</td>\n",
       "      <td>0</td>\n",
       "      <td>1</td>\n",
       "      <td>False</td>\n",
       "    </tr>\n",
       "    <tr>\n",
       "      <th>1</th>\n",
       "      <td>2016-01-01 00:15:00</td>\n",
       "      <td>251</td>\n",
       "      <td>394.0</td>\n",
       "      <td>202.0</td>\n",
       "      <td>162.0</td>\n",
       "      <td>109.0</td>\n",
       "      <td>312.0</td>\n",
       "      <td>198.0</td>\n",
       "      <td>29.0</td>\n",
       "      <td>40.0</td>\n",
       "      <td>...</td>\n",
       "      <td>0</td>\n",
       "      <td>0</td>\n",
       "      <td>0</td>\n",
       "      <td>0</td>\n",
       "      <td>0</td>\n",
       "      <td>0</td>\n",
       "      <td>0</td>\n",
       "      <td>0</td>\n",
       "      <td>1</td>\n",
       "      <td>False</td>\n",
       "    </tr>\n",
       "    <tr>\n",
       "      <th>2</th>\n",
       "      <td>2016-01-01 00:30:00</td>\n",
       "      <td>310</td>\n",
       "      <td>420.0</td>\n",
       "      <td>394.0</td>\n",
       "      <td>251.0</td>\n",
       "      <td>162.0</td>\n",
       "      <td>699.0</td>\n",
       "      <td>312.0</td>\n",
       "      <td>16.0</td>\n",
       "      <td>29.0</td>\n",
       "      <td>...</td>\n",
       "      <td>0</td>\n",
       "      <td>0</td>\n",
       "      <td>0</td>\n",
       "      <td>0</td>\n",
       "      <td>0</td>\n",
       "      <td>0</td>\n",
       "      <td>0</td>\n",
       "      <td>0</td>\n",
       "      <td>1</td>\n",
       "      <td>False</td>\n",
       "    </tr>\n",
       "    <tr>\n",
       "      <th>3</th>\n",
       "      <td>2016-01-01 00:45:00</td>\n",
       "      <td>338</td>\n",
       "      <td>310.0</td>\n",
       "      <td>420.0</td>\n",
       "      <td>310.0</td>\n",
       "      <td>251.0</td>\n",
       "      <td>482.0</td>\n",
       "      <td>699.0</td>\n",
       "      <td>3.0</td>\n",
       "      <td>16.0</td>\n",
       "      <td>...</td>\n",
       "      <td>0</td>\n",
       "      <td>0</td>\n",
       "      <td>0</td>\n",
       "      <td>0</td>\n",
       "      <td>0</td>\n",
       "      <td>0</td>\n",
       "      <td>0</td>\n",
       "      <td>0</td>\n",
       "      <td>1</td>\n",
       "      <td>False</td>\n",
       "    </tr>\n",
       "    <tr>\n",
       "      <th>4</th>\n",
       "      <td>2016-01-01 01:00:00</td>\n",
       "      <td>369</td>\n",
       "      <td>403.0</td>\n",
       "      <td>310.0</td>\n",
       "      <td>338.0</td>\n",
       "      <td>310.0</td>\n",
       "      <td>459.0</td>\n",
       "      <td>482.0</td>\n",
       "      <td>2.0</td>\n",
       "      <td>3.0</td>\n",
       "      <td>...</td>\n",
       "      <td>0</td>\n",
       "      <td>0</td>\n",
       "      <td>0</td>\n",
       "      <td>0</td>\n",
       "      <td>0</td>\n",
       "      <td>0</td>\n",
       "      <td>0</td>\n",
       "      <td>0</td>\n",
       "      <td>1</td>\n",
       "      <td>False</td>\n",
       "    </tr>\n",
       "    <tr>\n",
       "      <th>...</th>\n",
       "      <td>...</td>\n",
       "      <td>...</td>\n",
       "      <td>...</td>\n",
       "      <td>...</td>\n",
       "      <td>...</td>\n",
       "      <td>...</td>\n",
       "      <td>...</td>\n",
       "      <td>...</td>\n",
       "      <td>...</td>\n",
       "      <td>...</td>\n",
       "      <td>...</td>\n",
       "      <td>...</td>\n",
       "      <td>...</td>\n",
       "      <td>...</td>\n",
       "      <td>...</td>\n",
       "      <td>...</td>\n",
       "      <td>...</td>\n",
       "      <td>...</td>\n",
       "      <td>...</td>\n",
       "      <td>...</td>\n",
       "      <td>...</td>\n",
       "    </tr>\n",
       "    <tr>\n",
       "      <th>17467</th>\n",
       "      <td>2016-06-30 22:45:00</td>\n",
       "      <td>316</td>\n",
       "      <td>639.0</td>\n",
       "      <td>624.0</td>\n",
       "      <td>318.0</td>\n",
       "      <td>291.0</td>\n",
       "      <td>406.0</td>\n",
       "      <td>305.0</td>\n",
       "      <td>201.0</td>\n",
       "      <td>189.0</td>\n",
       "      <td>...</td>\n",
       "      <td>0</td>\n",
       "      <td>0</td>\n",
       "      <td>0</td>\n",
       "      <td>0</td>\n",
       "      <td>1</td>\n",
       "      <td>0</td>\n",
       "      <td>0</td>\n",
       "      <td>0</td>\n",
       "      <td>0</td>\n",
       "      <td>False</td>\n",
       "    </tr>\n",
       "    <tr>\n",
       "      <th>17468</th>\n",
       "      <td>2016-06-30 23:00:00</td>\n",
       "      <td>299</td>\n",
       "      <td>593.0</td>\n",
       "      <td>639.0</td>\n",
       "      <td>316.0</td>\n",
       "      <td>318.0</td>\n",
       "      <td>347.0</td>\n",
       "      <td>406.0</td>\n",
       "      <td>168.0</td>\n",
       "      <td>201.0</td>\n",
       "      <td>...</td>\n",
       "      <td>0</td>\n",
       "      <td>0</td>\n",
       "      <td>0</td>\n",
       "      <td>0</td>\n",
       "      <td>0</td>\n",
       "      <td>0</td>\n",
       "      <td>0</td>\n",
       "      <td>0</td>\n",
       "      <td>1</td>\n",
       "      <td>False</td>\n",
       "    </tr>\n",
       "    <tr>\n",
       "      <th>17469</th>\n",
       "      <td>2016-06-30 23:15:00</td>\n",
       "      <td>283</td>\n",
       "      <td>617.0</td>\n",
       "      <td>593.0</td>\n",
       "      <td>299.0</td>\n",
       "      <td>316.0</td>\n",
       "      <td>252.0</td>\n",
       "      <td>347.0</td>\n",
       "      <td>104.0</td>\n",
       "      <td>168.0</td>\n",
       "      <td>...</td>\n",
       "      <td>0</td>\n",
       "      <td>0</td>\n",
       "      <td>0</td>\n",
       "      <td>0</td>\n",
       "      <td>0</td>\n",
       "      <td>0</td>\n",
       "      <td>0</td>\n",
       "      <td>0</td>\n",
       "      <td>1</td>\n",
       "      <td>False</td>\n",
       "    </tr>\n",
       "    <tr>\n",
       "      <th>17470</th>\n",
       "      <td>2016-06-30 23:30:00</td>\n",
       "      <td>276</td>\n",
       "      <td>580.0</td>\n",
       "      <td>617.0</td>\n",
       "      <td>283.0</td>\n",
       "      <td>299.0</td>\n",
       "      <td>246.0</td>\n",
       "      <td>252.0</td>\n",
       "      <td>87.0</td>\n",
       "      <td>104.0</td>\n",
       "      <td>...</td>\n",
       "      <td>0</td>\n",
       "      <td>0</td>\n",
       "      <td>0</td>\n",
       "      <td>0</td>\n",
       "      <td>0</td>\n",
       "      <td>0</td>\n",
       "      <td>0</td>\n",
       "      <td>0</td>\n",
       "      <td>1</td>\n",
       "      <td>False</td>\n",
       "    </tr>\n",
       "    <tr>\n",
       "      <th>17471</th>\n",
       "      <td>2016-06-30 23:45:00</td>\n",
       "      <td>230</td>\n",
       "      <td>595.0</td>\n",
       "      <td>580.0</td>\n",
       "      <td>276.0</td>\n",
       "      <td>283.0</td>\n",
       "      <td>208.0</td>\n",
       "      <td>246.0</td>\n",
       "      <td>129.0</td>\n",
       "      <td>87.0</td>\n",
       "      <td>...</td>\n",
       "      <td>0</td>\n",
       "      <td>0</td>\n",
       "      <td>0</td>\n",
       "      <td>0</td>\n",
       "      <td>0</td>\n",
       "      <td>0</td>\n",
       "      <td>0</td>\n",
       "      <td>0</td>\n",
       "      <td>1</td>\n",
       "      <td>False</td>\n",
       "    </tr>\n",
       "  </tbody>\n",
       "</table>\n",
       "<p>17472 rows × 22 columns</p>\n",
       "</div>"
      ],
      "text/plain": [
       "                  datetime  pickups1  pickups17_lag1  pickups17_lag2  \\\n",
       "0      2016-01-01 00:00:00       162           202.0           307.0   \n",
       "1      2016-01-01 00:15:00       251           394.0           202.0   \n",
       "2      2016-01-01 00:30:00       310           420.0           394.0   \n",
       "3      2016-01-01 00:45:00       338           310.0           420.0   \n",
       "4      2016-01-01 01:00:00       369           403.0           310.0   \n",
       "...                    ...       ...             ...             ...   \n",
       "17467  2016-06-30 22:45:00       316           639.0           624.0   \n",
       "17468  2016-06-30 23:00:00       299           593.0           639.0   \n",
       "17469  2016-06-30 23:15:00       283           617.0           593.0   \n",
       "17470  2016-06-30 23:30:00       276           580.0           617.0   \n",
       "17471  2016-06-30 23:45:00       230           595.0           580.0   \n",
       "\n",
       "       pickups1_lag1  pickups1_lag2  pickups21_lag1  pickups21_lag2  \\\n",
       "0              109.0          171.0           198.0           306.0   \n",
       "1              162.0          109.0           312.0           198.0   \n",
       "2              251.0          162.0           699.0           312.0   \n",
       "3              310.0          251.0           482.0           699.0   \n",
       "4              338.0          310.0           459.0           482.0   \n",
       "...              ...            ...             ...             ...   \n",
       "17467          318.0          291.0           406.0           305.0   \n",
       "17468          316.0          318.0           347.0           406.0   \n",
       "17469          299.0          316.0           252.0           347.0   \n",
       "17470          283.0          299.0           246.0           252.0   \n",
       "17471          276.0          283.0           208.0           246.0   \n",
       "\n",
       "       pickups28_lag1  pickups28_lag2  ...  fog  rain_drizzle  \\\n",
       "0                40.0            54.0  ...    0             0   \n",
       "1                29.0            40.0  ...    0             0   \n",
       "2                16.0            29.0  ...    0             0   \n",
       "3                 3.0            16.0  ...    0             0   \n",
       "4                 2.0             3.0  ...    0             0   \n",
       "...               ...             ...  ...  ...           ...   \n",
       "17467           201.0           189.0  ...    0             0   \n",
       "17468           168.0           201.0  ...    0             0   \n",
       "17469           104.0           168.0  ...    0             0   \n",
       "17470            87.0           104.0  ...    0             0   \n",
       "17471           129.0            87.0  ...    0             0   \n",
       "\n",
       "       time_of_day_afternoon  time_of_day_afternoon rush  time_of_day_evening  \\\n",
       "0                          0                           0                    0   \n",
       "1                          0                           0                    0   \n",
       "2                          0                           0                    0   \n",
       "3                          0                           0                    0   \n",
       "4                          0                           0                    0   \n",
       "...                      ...                         ...                  ...   \n",
       "17467                      0                           0                    1   \n",
       "17468                      0                           0                    0   \n",
       "17469                      0                           0                    0   \n",
       "17470                      0                           0                    0   \n",
       "17471                      0                           0                    0   \n",
       "\n",
       "       time_of_day_lunch time  time_of_day_morning  time_of_day_morning rush  \\\n",
       "0                           0                    0                         0   \n",
       "1                           0                    0                         0   \n",
       "2                           0                    0                         0   \n",
       "3                           0                    0                         0   \n",
       "4                           0                    0                         0   \n",
       "...                       ...                  ...                       ...   \n",
       "17467                       0                    0                         0   \n",
       "17468                       0                    0                         0   \n",
       "17469                       0                    0                         0   \n",
       "17470                       0                    0                         0   \n",
       "17471                       0                    0                         0   \n",
       "\n",
       "       time_of_day_night  is_weekend  \n",
       "0                      1       False  \n",
       "1                      1       False  \n",
       "2                      1       False  \n",
       "3                      1       False  \n",
       "4                      1       False  \n",
       "...                  ...         ...  \n",
       "17467                  0       False  \n",
       "17468                  1       False  \n",
       "17469                  1       False  \n",
       "17470                  1       False  \n",
       "17471                  1       False  \n",
       "\n",
       "[17472 rows x 22 columns]"
      ]
     },
     "execution_count": 3,
     "metadata": {},
     "output_type": "execute_result"
    }
   ],
   "source": [
    "f"
   ]
  },
  {
   "cell_type": "markdown",
   "metadata": {},
   "source": [
    "Yes, the index is no longer the time, let's put it back"
   ]
  },
  {
   "cell_type": "code",
   "execution_count": 4,
   "metadata": {},
   "outputs": [],
   "source": [
    "f = f.set_index(\"datetime\")"
   ]
  },
  {
   "cell_type": "code",
   "execution_count": 5,
   "metadata": {},
   "outputs": [
    {
     "data": {
      "text/html": [
       "<div>\n",
       "<style scoped>\n",
       "    .dataframe tbody tr th:only-of-type {\n",
       "        vertical-align: middle;\n",
       "    }\n",
       "\n",
       "    .dataframe tbody tr th {\n",
       "        vertical-align: top;\n",
       "    }\n",
       "\n",
       "    .dataframe thead th {\n",
       "        text-align: right;\n",
       "    }\n",
       "</style>\n",
       "<table border=\"1\" class=\"dataframe\">\n",
       "  <thead>\n",
       "    <tr style=\"text-align: right;\">\n",
       "      <th></th>\n",
       "      <th>pickups1</th>\n",
       "      <th>pickups17_lag1</th>\n",
       "      <th>pickups17_lag2</th>\n",
       "      <th>pickups1_lag1</th>\n",
       "      <th>pickups1_lag2</th>\n",
       "      <th>pickups21_lag1</th>\n",
       "      <th>pickups21_lag2</th>\n",
       "      <th>pickups28_lag1</th>\n",
       "      <th>pickups28_lag2</th>\n",
       "      <th>temp</th>\n",
       "      <th>...</th>\n",
       "      <th>fog</th>\n",
       "      <th>rain_drizzle</th>\n",
       "      <th>time_of_day_afternoon</th>\n",
       "      <th>time_of_day_afternoon rush</th>\n",
       "      <th>time_of_day_evening</th>\n",
       "      <th>time_of_day_lunch time</th>\n",
       "      <th>time_of_day_morning</th>\n",
       "      <th>time_of_day_morning rush</th>\n",
       "      <th>time_of_day_night</th>\n",
       "      <th>is_weekend</th>\n",
       "    </tr>\n",
       "    <tr>\n",
       "      <th>datetime</th>\n",
       "      <th></th>\n",
       "      <th></th>\n",
       "      <th></th>\n",
       "      <th></th>\n",
       "      <th></th>\n",
       "      <th></th>\n",
       "      <th></th>\n",
       "      <th></th>\n",
       "      <th></th>\n",
       "      <th></th>\n",
       "      <th></th>\n",
       "      <th></th>\n",
       "      <th></th>\n",
       "      <th></th>\n",
       "      <th></th>\n",
       "      <th></th>\n",
       "      <th></th>\n",
       "      <th></th>\n",
       "      <th></th>\n",
       "      <th></th>\n",
       "      <th></th>\n",
       "    </tr>\n",
       "  </thead>\n",
       "  <tbody>\n",
       "    <tr>\n",
       "      <th>2016-01-01 00:00:00</th>\n",
       "      <td>162</td>\n",
       "      <td>202.0</td>\n",
       "      <td>307.0</td>\n",
       "      <td>109.0</td>\n",
       "      <td>171.0</td>\n",
       "      <td>198.0</td>\n",
       "      <td>306.0</td>\n",
       "      <td>40.0</td>\n",
       "      <td>54.0</td>\n",
       "      <td>40.4</td>\n",
       "      <td>...</td>\n",
       "      <td>0</td>\n",
       "      <td>0</td>\n",
       "      <td>0</td>\n",
       "      <td>0</td>\n",
       "      <td>0</td>\n",
       "      <td>0</td>\n",
       "      <td>0</td>\n",
       "      <td>0</td>\n",
       "      <td>1</td>\n",
       "      <td>False</td>\n",
       "    </tr>\n",
       "    <tr>\n",
       "      <th>2016-01-01 00:15:00</th>\n",
       "      <td>251</td>\n",
       "      <td>394.0</td>\n",
       "      <td>202.0</td>\n",
       "      <td>162.0</td>\n",
       "      <td>109.0</td>\n",
       "      <td>312.0</td>\n",
       "      <td>198.0</td>\n",
       "      <td>29.0</td>\n",
       "      <td>40.0</td>\n",
       "      <td>40.4</td>\n",
       "      <td>...</td>\n",
       "      <td>0</td>\n",
       "      <td>0</td>\n",
       "      <td>0</td>\n",
       "      <td>0</td>\n",
       "      <td>0</td>\n",
       "      <td>0</td>\n",
       "      <td>0</td>\n",
       "      <td>0</td>\n",
       "      <td>1</td>\n",
       "      <td>False</td>\n",
       "    </tr>\n",
       "    <tr>\n",
       "      <th>2016-01-01 00:30:00</th>\n",
       "      <td>310</td>\n",
       "      <td>420.0</td>\n",
       "      <td>394.0</td>\n",
       "      <td>251.0</td>\n",
       "      <td>162.0</td>\n",
       "      <td>699.0</td>\n",
       "      <td>312.0</td>\n",
       "      <td>16.0</td>\n",
       "      <td>29.0</td>\n",
       "      <td>40.4</td>\n",
       "      <td>...</td>\n",
       "      <td>0</td>\n",
       "      <td>0</td>\n",
       "      <td>0</td>\n",
       "      <td>0</td>\n",
       "      <td>0</td>\n",
       "      <td>0</td>\n",
       "      <td>0</td>\n",
       "      <td>0</td>\n",
       "      <td>1</td>\n",
       "      <td>False</td>\n",
       "    </tr>\n",
       "    <tr>\n",
       "      <th>2016-01-01 00:45:00</th>\n",
       "      <td>338</td>\n",
       "      <td>310.0</td>\n",
       "      <td>420.0</td>\n",
       "      <td>310.0</td>\n",
       "      <td>251.0</td>\n",
       "      <td>482.0</td>\n",
       "      <td>699.0</td>\n",
       "      <td>3.0</td>\n",
       "      <td>16.0</td>\n",
       "      <td>40.4</td>\n",
       "      <td>...</td>\n",
       "      <td>0</td>\n",
       "      <td>0</td>\n",
       "      <td>0</td>\n",
       "      <td>0</td>\n",
       "      <td>0</td>\n",
       "      <td>0</td>\n",
       "      <td>0</td>\n",
       "      <td>0</td>\n",
       "      <td>1</td>\n",
       "      <td>False</td>\n",
       "    </tr>\n",
       "    <tr>\n",
       "      <th>2016-01-01 01:00:00</th>\n",
       "      <td>369</td>\n",
       "      <td>403.0</td>\n",
       "      <td>310.0</td>\n",
       "      <td>338.0</td>\n",
       "      <td>310.0</td>\n",
       "      <td>459.0</td>\n",
       "      <td>482.0</td>\n",
       "      <td>2.0</td>\n",
       "      <td>3.0</td>\n",
       "      <td>40.4</td>\n",
       "      <td>...</td>\n",
       "      <td>0</td>\n",
       "      <td>0</td>\n",
       "      <td>0</td>\n",
       "      <td>0</td>\n",
       "      <td>0</td>\n",
       "      <td>0</td>\n",
       "      <td>0</td>\n",
       "      <td>0</td>\n",
       "      <td>1</td>\n",
       "      <td>False</td>\n",
       "    </tr>\n",
       "  </tbody>\n",
       "</table>\n",
       "<p>5 rows × 21 columns</p>\n",
       "</div>"
      ],
      "text/plain": [
       "                     pickups1  pickups17_lag1  pickups17_lag2  pickups1_lag1  \\\n",
       "datetime                                                                       \n",
       "2016-01-01 00:00:00       162           202.0           307.0          109.0   \n",
       "2016-01-01 00:15:00       251           394.0           202.0          162.0   \n",
       "2016-01-01 00:30:00       310           420.0           394.0          251.0   \n",
       "2016-01-01 00:45:00       338           310.0           420.0          310.0   \n",
       "2016-01-01 01:00:00       369           403.0           310.0          338.0   \n",
       "\n",
       "                     pickups1_lag2  pickups21_lag1  pickups21_lag2  \\\n",
       "datetime                                                             \n",
       "2016-01-01 00:00:00          171.0           198.0           306.0   \n",
       "2016-01-01 00:15:00          109.0           312.0           198.0   \n",
       "2016-01-01 00:30:00          162.0           699.0           312.0   \n",
       "2016-01-01 00:45:00          251.0           482.0           699.0   \n",
       "2016-01-01 01:00:00          310.0           459.0           482.0   \n",
       "\n",
       "                     pickups28_lag1  pickups28_lag2  temp  ...  fog  \\\n",
       "datetime                                                   ...        \n",
       "2016-01-01 00:00:00            40.0            54.0  40.4  ...    0   \n",
       "2016-01-01 00:15:00            29.0            40.0  40.4  ...    0   \n",
       "2016-01-01 00:30:00            16.0            29.0  40.4  ...    0   \n",
       "2016-01-01 00:45:00             3.0            16.0  40.4  ...    0   \n",
       "2016-01-01 01:00:00             2.0             3.0  40.4  ...    0   \n",
       "\n",
       "                     rain_drizzle  time_of_day_afternoon  \\\n",
       "datetime                                                   \n",
       "2016-01-01 00:00:00             0                      0   \n",
       "2016-01-01 00:15:00             0                      0   \n",
       "2016-01-01 00:30:00             0                      0   \n",
       "2016-01-01 00:45:00             0                      0   \n",
       "2016-01-01 01:00:00             0                      0   \n",
       "\n",
       "                     time_of_day_afternoon rush  time_of_day_evening  \\\n",
       "datetime                                                               \n",
       "2016-01-01 00:00:00                           0                    0   \n",
       "2016-01-01 00:15:00                           0                    0   \n",
       "2016-01-01 00:30:00                           0                    0   \n",
       "2016-01-01 00:45:00                           0                    0   \n",
       "2016-01-01 01:00:00                           0                    0   \n",
       "\n",
       "                     time_of_day_lunch time  time_of_day_morning  \\\n",
       "datetime                                                           \n",
       "2016-01-01 00:00:00                       0                    0   \n",
       "2016-01-01 00:15:00                       0                    0   \n",
       "2016-01-01 00:30:00                       0                    0   \n",
       "2016-01-01 00:45:00                       0                    0   \n",
       "2016-01-01 01:00:00                       0                    0   \n",
       "\n",
       "                     time_of_day_morning rush  time_of_day_night  is_weekend  \n",
       "datetime                                                                      \n",
       "2016-01-01 00:00:00                         0                  1       False  \n",
       "2016-01-01 00:15:00                         0                  1       False  \n",
       "2016-01-01 00:30:00                         0                  1       False  \n",
       "2016-01-01 00:45:00                         0                  1       False  \n",
       "2016-01-01 01:00:00                         0                  1       False  \n",
       "\n",
       "[5 rows x 21 columns]"
      ]
     },
     "execution_count": 5,
     "metadata": {},
     "output_type": "execute_result"
    }
   ],
   "source": [
    "f.head()"
   ]
  },
  {
   "cell_type": "markdown",
   "metadata": {},
   "source": [
    "So, imagine that you are an NYC taxi fleet manager. At each 15 minutes, you goal is to make sure your company has enough cars for very big spikes in demand across the city (like above 90 percentile). If you detect some very big spike in a specific area, you coordinate with the cars in the neighbourhood to go there. \n",
    "\n",
    "For this exercise, let's assume that area 1 is the only truly important for you. Doing this manually would be very tiring (if at all possible), so you rely on your Data Science skills to get a model that does it for you:"
   ]
  },
  {
   "cell_type": "markdown",
   "metadata": {},
   "source": [
    "**At each 15 minutes time interval, predict whether the next time interval will have a demand spike (\"stress\").**"
   ]
  },
  {
   "cell_type": "markdown",
   "metadata": {},
   "source": [
    "Let's first find the actual value above which you call it a \"stress\" situation:"
   ]
  },
  {
   "cell_type": "code",
   "execution_count": 6,
   "metadata": {},
   "outputs": [],
   "source": [
    "stress_threshold=np.percentile(f['pickups1'], 90)"
   ]
  },
  {
   "cell_type": "markdown",
   "metadata": {},
   "source": [
    "How many demand pickups exist above percentile 90? And above other percentiles (e.g. percentile 50)?  "
   ]
  },
  {
   "cell_type": "code",
   "execution_count": 7,
   "metadata": {},
   "outputs": [
    {
     "data": {
      "text/plain": [
       "1748"
      ]
     },
     "execution_count": 7,
     "metadata": {},
     "output_type": "execute_result"
    }
   ],
   "source": [
    "len(f[f.pickups1>stress_threshold])"
   ]
  },
  {
   "cell_type": "code",
   "execution_count": 8,
   "metadata": {},
   "outputs": [
    {
     "data": {
      "text/plain": [
       "8690"
      ]
     },
     "execution_count": 8,
     "metadata": {},
     "output_type": "execute_result"
    }
   ],
   "source": [
    "len(f[f.pickups1>np.percentile(f.pickups1, 50)])"
   ]
  },
  {
   "cell_type": "markdown",
   "metadata": {},
   "source": [
    "Now, let's create a new column (or variable) that is True when it is a \"stress\" scenario, and False when it is not"
   ]
  },
  {
   "cell_type": "code",
   "execution_count": 9,
   "metadata": {},
   "outputs": [],
   "source": [
    "f['stress'] = f['pickups1'] > stress_threshold\n",
    "# f['stress']=f['pickups1'].apply(lambda x: x>stress_threshold)  - Another way to do the above"
   ]
  },
  {
   "cell_type": "code",
   "execution_count": 10,
   "metadata": {},
   "outputs": [
    {
     "data": {
      "text/plain": [
       "datetime\n",
       "2016-01-01 00:00:00    False\n",
       "2016-01-01 00:15:00    False\n",
       "2016-01-01 00:30:00    False\n",
       "2016-01-01 00:45:00     True\n",
       "2016-01-01 01:00:00     True\n",
       "                       ...  \n",
       "2016-06-30 22:45:00    False\n",
       "2016-06-30 23:00:00    False\n",
       "2016-06-30 23:15:00    False\n",
       "2016-06-30 23:30:00    False\n",
       "2016-06-30 23:45:00    False\n",
       "Name: stress, Length: 17472, dtype: bool"
      ]
     },
     "execution_count": 10,
     "metadata": {},
     "output_type": "execute_result"
    }
   ],
   "source": [
    "f['stress']"
   ]
  },
  {
   "cell_type": "markdown",
   "metadata": {},
   "source": [
    "Do what to inspect this new data that you created? (e.g. use describe(), hist(), etc...)"
   ]
  },
  {
   "cell_type": "code",
   "execution_count": 61,
   "metadata": {},
   "outputs": [
    {
     "data": {
      "text/html": [
       "<div>\n",
       "<style scoped>\n",
       "    .dataframe tbody tr th:only-of-type {\n",
       "        vertical-align: middle;\n",
       "    }\n",
       "\n",
       "    .dataframe tbody tr th {\n",
       "        vertical-align: top;\n",
       "    }\n",
       "\n",
       "    .dataframe thead th {\n",
       "        text-align: right;\n",
       "    }\n",
       "</style>\n",
       "<table border=\"1\" class=\"dataframe\">\n",
       "  <thead>\n",
       "    <tr style=\"text-align: right;\">\n",
       "      <th></th>\n",
       "      <th>pickups1</th>\n",
       "      <th>pickups17_lag1</th>\n",
       "      <th>pickups17_lag2</th>\n",
       "      <th>pickups1_lag1</th>\n",
       "      <th>pickups1_lag2</th>\n",
       "      <th>pickups21_lag1</th>\n",
       "      <th>pickups21_lag2</th>\n",
       "      <th>pickups28_lag1</th>\n",
       "      <th>pickups28_lag2</th>\n",
       "      <th>temp</th>\n",
       "      <th>prcp</th>\n",
       "      <th>fog</th>\n",
       "      <th>rain_drizzle</th>\n",
       "      <th>time_of_day_afternoon</th>\n",
       "      <th>time_of_day_afternoon rush</th>\n",
       "      <th>time_of_day_evening</th>\n",
       "      <th>time_of_day_lunch time</th>\n",
       "      <th>time_of_day_morning</th>\n",
       "      <th>time_of_day_morning rush</th>\n",
       "      <th>time_of_day_night</th>\n",
       "    </tr>\n",
       "  </thead>\n",
       "  <tbody>\n",
       "    <tr>\n",
       "      <th>count</th>\n",
       "      <td>17472.000000</td>\n",
       "      <td>17472.000000</td>\n",
       "      <td>17472.000000</td>\n",
       "      <td>17472.000000</td>\n",
       "      <td>17472.000000</td>\n",
       "      <td>17472.000000</td>\n",
       "      <td>17472.000000</td>\n",
       "      <td>17472.000000</td>\n",
       "      <td>17472.000000</td>\n",
       "      <td>17472.00000</td>\n",
       "      <td>17472.000000</td>\n",
       "      <td>17472.000000</td>\n",
       "      <td>17472.000000</td>\n",
       "      <td>17472.000000</td>\n",
       "      <td>17472.000000</td>\n",
       "      <td>17472.000000</td>\n",
       "      <td>17472.000000</td>\n",
       "      <td>17472.000000</td>\n",
       "      <td>17472.000000</td>\n",
       "      <td>17472.000000</td>\n",
       "    </tr>\n",
       "    <tr>\n",
       "      <th>mean</th>\n",
       "      <td>197.917182</td>\n",
       "      <td>397.725103</td>\n",
       "      <td>397.708620</td>\n",
       "      <td>197.910256</td>\n",
       "      <td>197.904247</td>\n",
       "      <td>276.813301</td>\n",
       "      <td>276.818910</td>\n",
       "      <td>98.999828</td>\n",
       "      <td>98.995536</td>\n",
       "      <td>51.15000</td>\n",
       "      <td>0.099780</td>\n",
       "      <td>0.049451</td>\n",
       "      <td>0.274725</td>\n",
       "      <td>0.125000</td>\n",
       "      <td>0.125000</td>\n",
       "      <td>0.125000</td>\n",
       "      <td>0.083333</td>\n",
       "      <td>0.166667</td>\n",
       "      <td>0.041667</td>\n",
       "      <td>0.333333</td>\n",
       "    </tr>\n",
       "    <tr>\n",
       "      <th>std</th>\n",
       "      <td>105.638241</td>\n",
       "      <td>210.816058</td>\n",
       "      <td>210.811892</td>\n",
       "      <td>105.640104</td>\n",
       "      <td>105.638648</td>\n",
       "      <td>162.654386</td>\n",
       "      <td>162.653703</td>\n",
       "      <td>74.249825</td>\n",
       "      <td>74.250259</td>\n",
       "      <td>15.59174</td>\n",
       "      <td>0.259555</td>\n",
       "      <td>0.216813</td>\n",
       "      <td>0.446389</td>\n",
       "      <td>0.330728</td>\n",
       "      <td>0.330728</td>\n",
       "      <td>0.330728</td>\n",
       "      <td>0.276393</td>\n",
       "      <td>0.372689</td>\n",
       "      <td>0.199832</td>\n",
       "      <td>0.471418</td>\n",
       "    </tr>\n",
       "    <tr>\n",
       "      <th>min</th>\n",
       "      <td>0.000000</td>\n",
       "      <td>0.000000</td>\n",
       "      <td>0.000000</td>\n",
       "      <td>0.000000</td>\n",
       "      <td>0.000000</td>\n",
       "      <td>0.000000</td>\n",
       "      <td>0.000000</td>\n",
       "      <td>0.000000</td>\n",
       "      <td>0.000000</td>\n",
       "      <td>6.90000</td>\n",
       "      <td>0.000000</td>\n",
       "      <td>0.000000</td>\n",
       "      <td>0.000000</td>\n",
       "      <td>0.000000</td>\n",
       "      <td>0.000000</td>\n",
       "      <td>0.000000</td>\n",
       "      <td>0.000000</td>\n",
       "      <td>0.000000</td>\n",
       "      <td>0.000000</td>\n",
       "      <td>0.000000</td>\n",
       "    </tr>\n",
       "    <tr>\n",
       "      <th>25%</th>\n",
       "      <td>100.000000</td>\n",
       "      <td>223.000000</td>\n",
       "      <td>223.000000</td>\n",
       "      <td>100.000000</td>\n",
       "      <td>100.000000</td>\n",
       "      <td>103.000000</td>\n",
       "      <td>103.000000</td>\n",
       "      <td>10.000000</td>\n",
       "      <td>10.000000</td>\n",
       "      <td>39.10000</td>\n",
       "      <td>0.000000</td>\n",
       "      <td>0.000000</td>\n",
       "      <td>0.000000</td>\n",
       "      <td>0.000000</td>\n",
       "      <td>0.000000</td>\n",
       "      <td>0.000000</td>\n",
       "      <td>0.000000</td>\n",
       "      <td>0.000000</td>\n",
       "      <td>0.000000</td>\n",
       "      <td>0.000000</td>\n",
       "    </tr>\n",
       "    <tr>\n",
       "      <th>50%</th>\n",
       "      <td>223.000000</td>\n",
       "      <td>418.000000</td>\n",
       "      <td>418.000000</td>\n",
       "      <td>223.000000</td>\n",
       "      <td>223.000000</td>\n",
       "      <td>331.000000</td>\n",
       "      <td>331.000000</td>\n",
       "      <td>109.000000</td>\n",
       "      <td>109.000000</td>\n",
       "      <td>51.35000</td>\n",
       "      <td>0.000000</td>\n",
       "      <td>0.000000</td>\n",
       "      <td>0.000000</td>\n",
       "      <td>0.000000</td>\n",
       "      <td>0.000000</td>\n",
       "      <td>0.000000</td>\n",
       "      <td>0.000000</td>\n",
       "      <td>0.000000</td>\n",
       "      <td>0.000000</td>\n",
       "      <td>0.000000</td>\n",
       "    </tr>\n",
       "    <tr>\n",
       "      <th>75%</th>\n",
       "      <td>278.000000</td>\n",
       "      <td>529.000000</td>\n",
       "      <td>529.000000</td>\n",
       "      <td>278.000000</td>\n",
       "      <td>278.000000</td>\n",
       "      <td>397.000000</td>\n",
       "      <td>397.000000</td>\n",
       "      <td>160.000000</td>\n",
       "      <td>160.000000</td>\n",
       "      <td>63.40000</td>\n",
       "      <td>0.050000</td>\n",
       "      <td>0.000000</td>\n",
       "      <td>1.000000</td>\n",
       "      <td>0.000000</td>\n",
       "      <td>0.000000</td>\n",
       "      <td>0.000000</td>\n",
       "      <td>0.000000</td>\n",
       "      <td>0.000000</td>\n",
       "      <td>0.000000</td>\n",
       "      <td>1.000000</td>\n",
       "    </tr>\n",
       "    <tr>\n",
       "      <th>max</th>\n",
       "      <td>462.000000</td>\n",
       "      <td>1026.000000</td>\n",
       "      <td>1026.000000</td>\n",
       "      <td>462.000000</td>\n",
       "      <td>462.000000</td>\n",
       "      <td>814.000000</td>\n",
       "      <td>814.000000</td>\n",
       "      <td>323.000000</td>\n",
       "      <td>323.000000</td>\n",
       "      <td>79.60000</td>\n",
       "      <td>1.820000</td>\n",
       "      <td>1.000000</td>\n",
       "      <td>1.000000</td>\n",
       "      <td>1.000000</td>\n",
       "      <td>1.000000</td>\n",
       "      <td>1.000000</td>\n",
       "      <td>1.000000</td>\n",
       "      <td>1.000000</td>\n",
       "      <td>1.000000</td>\n",
       "      <td>1.000000</td>\n",
       "    </tr>\n",
       "  </tbody>\n",
       "</table>\n",
       "</div>"
      ],
      "text/plain": [
       "           pickups1  pickups17_lag1  pickups17_lag2  pickups1_lag1  \\\n",
       "count  17472.000000    17472.000000    17472.000000   17472.000000   \n",
       "mean     197.917182      397.725103      397.708620     197.910256   \n",
       "std      105.638241      210.816058      210.811892     105.640104   \n",
       "min        0.000000        0.000000        0.000000       0.000000   \n",
       "25%      100.000000      223.000000      223.000000     100.000000   \n",
       "50%      223.000000      418.000000      418.000000     223.000000   \n",
       "75%      278.000000      529.000000      529.000000     278.000000   \n",
       "max      462.000000     1026.000000     1026.000000     462.000000   \n",
       "\n",
       "       pickups1_lag2  pickups21_lag1  pickups21_lag2  pickups28_lag1  \\\n",
       "count   17472.000000    17472.000000    17472.000000    17472.000000   \n",
       "mean      197.904247      276.813301      276.818910       98.999828   \n",
       "std       105.638648      162.654386      162.653703       74.249825   \n",
       "min         0.000000        0.000000        0.000000        0.000000   \n",
       "25%       100.000000      103.000000      103.000000       10.000000   \n",
       "50%       223.000000      331.000000      331.000000      109.000000   \n",
       "75%       278.000000      397.000000      397.000000      160.000000   \n",
       "max       462.000000      814.000000      814.000000      323.000000   \n",
       "\n",
       "       pickups28_lag2         temp          prcp           fog  rain_drizzle  \\\n",
       "count    17472.000000  17472.00000  17472.000000  17472.000000  17472.000000   \n",
       "mean        98.995536     51.15000      0.099780      0.049451      0.274725   \n",
       "std         74.250259     15.59174      0.259555      0.216813      0.446389   \n",
       "min          0.000000      6.90000      0.000000      0.000000      0.000000   \n",
       "25%         10.000000     39.10000      0.000000      0.000000      0.000000   \n",
       "50%        109.000000     51.35000      0.000000      0.000000      0.000000   \n",
       "75%        160.000000     63.40000      0.050000      0.000000      1.000000   \n",
       "max        323.000000     79.60000      1.820000      1.000000      1.000000   \n",
       "\n",
       "       time_of_day_afternoon  time_of_day_afternoon rush  time_of_day_evening  \\\n",
       "count           17472.000000                17472.000000         17472.000000   \n",
       "mean                0.125000                    0.125000             0.125000   \n",
       "std                 0.330728                    0.330728             0.330728   \n",
       "min                 0.000000                    0.000000             0.000000   \n",
       "25%                 0.000000                    0.000000             0.000000   \n",
       "50%                 0.000000                    0.000000             0.000000   \n",
       "75%                 0.000000                    0.000000             0.000000   \n",
       "max                 1.000000                    1.000000             1.000000   \n",
       "\n",
       "       time_of_day_lunch time  time_of_day_morning  time_of_day_morning rush  \\\n",
       "count            17472.000000         17472.000000              17472.000000   \n",
       "mean                 0.083333             0.166667                  0.041667   \n",
       "std                  0.276393             0.372689                  0.199832   \n",
       "min                  0.000000             0.000000                  0.000000   \n",
       "25%                  0.000000             0.000000                  0.000000   \n",
       "50%                  0.000000             0.000000                  0.000000   \n",
       "75%                  0.000000             0.000000                  0.000000   \n",
       "max                  1.000000             1.000000                  1.000000   \n",
       "\n",
       "       time_of_day_night  \n",
       "count       17472.000000  \n",
       "mean            0.333333  \n",
       "std             0.471418  \n",
       "min             0.000000  \n",
       "25%             0.000000  \n",
       "50%             0.000000  \n",
       "75%             1.000000  \n",
       "max             1.000000  "
      ]
     },
     "execution_count": 61,
     "metadata": {},
     "output_type": "execute_result"
    }
   ],
   "source": [
    "f.describe()"
   ]
  },
  {
   "cell_type": "markdown",
   "metadata": {},
   "source": [
    "Let's now create our model. The first thing to do is to import the sklearn package that has Logistic Regression, and then just create the respective object."
   ]
  },
  {
   "cell_type": "code",
   "execution_count": 62,
   "metadata": {},
   "outputs": [],
   "source": [
    "from sklearn.linear_model import LogisticRegression\n",
    "LogReg=LogisticRegression(max_iter=100000)"
   ]
  },
  {
   "cell_type": "markdown",
   "metadata": {},
   "source": [
    "We have a model, but it is \"empty\", so let's create the training and test sets now. \n",
    "\n",
    "We will create the model with 2/3 of the data (training set), and then 1/3 of the data is kept aside for later validation (test set)."
   ]
  },
  {
   "cell_type": "code",
   "execution_count": 63,
   "metadata": {},
   "outputs": [],
   "source": [
    "split=int(len(f)*2.0/3)\n",
    "training=f[:split]\n",
    "test=f[split:]"
   ]
  },
  {
   "cell_type": "markdown",
   "metadata": {},
   "source": [
    "We need to create the x and y for the training and test set now. Notice that the y is the \"target\" variable, i.e. our \"stress\" column, and the x comes from **almost** all other columns. Let's check all columns"
   ]
  },
  {
   "cell_type": "code",
   "execution_count": 64,
   "metadata": {},
   "outputs": [
    {
     "data": {
      "text/plain": [
       "Index(['pickups1', 'pickups17_lag1', 'pickups17_lag2', 'pickups1_lag1',\n",
       "       'pickups1_lag2', 'pickups21_lag1', 'pickups21_lag2', 'pickups28_lag1',\n",
       "       'pickups28_lag2', 'temp', 'prcp', 'fog', 'rain_drizzle',\n",
       "       'time_of_day_afternoon', 'time_of_day_afternoon rush',\n",
       "       'time_of_day_evening', 'time_of_day_lunch time', 'time_of_day_morning',\n",
       "       'time_of_day_morning rush', 'time_of_day_night', 'is_weekend',\n",
       "       'stress'],\n",
       "      dtype='object')"
      ]
     },
     "execution_count": 64,
     "metadata": {},
     "output_type": "execute_result"
    }
   ],
   "source": [
    "training.columns"
   ]
  },
  {
   "cell_type": "markdown",
   "metadata": {},
   "source": [
    "Ok, we need to create the x using EVERYTHING but the 'stress' variable, but also we need to remove \"pickups1\" (**why?**)\n",
    "\n",
    "Notice also that we have several dummy variables relating to the categorical 'time of day' variable. Recall that \n",
    "we discussed the method of dummy variables as a way of including categorical variables as predictors in our model.  In this case, the time of day variable has seven possible values and we created seven dummy variables using the pd.get_dummies() function. In logistic regression when including dumming variables for a categorical variable that takes k values, it recommended to only include k-1 of the dummies and not all k of them. The reason for this is that these k dummy variables sum to 1 leading to multicollinearity (linear dependence), which will make it difficult to interpret the coefficients. Thus, we will arbitrarily exclude the dummy 'time_of_day_night'. It is also important to note that when interpreting the coefficients for these dummy variables you interpret them as measuring an 'effect' relative to the baseline category that you left out (in this case the remaining six dummy variables should be interpreted as measuring effects relative to the 'time_of_day_night'). FYI, in Pandas, we can automatically create k-1 dummies instead of k dummies using the option 'drop_first=False' in the pd.get_dummies() function.\n",
    "\n",
    "The other methods for classification that we will cover (e.g., SVM, decision trees) are less sensitive to multicollinearity and there you can include all the seven dummies."
   ]
  },
  {
   "cell_type": "code",
   "execution_count": 65,
   "metadata": {},
   "outputs": [],
   "source": [
    "x_train=training[['pickups17_lag1', 'pickups17_lag2', 'pickups1_lag1',\n",
    "       'pickups1_lag2', 'pickups21_lag1', 'pickups21_lag2', 'pickups28_lag1',\n",
    "       'pickups28_lag2',  'temp', 'prcp','fog', 'rain_drizzle', 'is_weekend', 'time_of_day_afternoon',\n",
    "       'time_of_day_afternoon rush', 'time_of_day_evening',\n",
    "       'time_of_day_lunch time', 'time_of_day_morning',\n",
    "       'time_of_day_morning rush']]\n",
    "x_test=test[['pickups17_lag1', 'pickups17_lag2', 'pickups1_lag1',\n",
    "       'pickups1_lag2', 'pickups21_lag1', 'pickups21_lag2', 'pickups28_lag1',\n",
    "       'pickups28_lag2',  'temp', 'prcp','fog', 'rain_drizzle', 'is_weekend', 'time_of_day_afternoon',\n",
    "       'time_of_day_afternoon rush', 'time_of_day_evening',\n",
    "       'time_of_day_lunch time', 'time_of_day_morning',\n",
    "       'time_of_day_morning rush']]"
   ]
  },
  {
   "cell_type": "markdown",
   "metadata": {},
   "source": [
    "To make sure you understand things, don't forget to ALWAYS play with the code here... For example, what's the content of the new lists x_train and x_test?"
   ]
  },
  {
   "cell_type": "code",
   "execution_count": 66,
   "metadata": {},
   "outputs": [
    {
     "data": {
      "text/html": [
       "<div>\n",
       "<style scoped>\n",
       "    .dataframe tbody tr th:only-of-type {\n",
       "        vertical-align: middle;\n",
       "    }\n",
       "\n",
       "    .dataframe tbody tr th {\n",
       "        vertical-align: top;\n",
       "    }\n",
       "\n",
       "    .dataframe thead th {\n",
       "        text-align: right;\n",
       "    }\n",
       "</style>\n",
       "<table border=\"1\" class=\"dataframe\">\n",
       "  <thead>\n",
       "    <tr style=\"text-align: right;\">\n",
       "      <th>datetime</th>\n",
       "      <th>2016-01-01 00:00:00</th>\n",
       "      <th>2016-01-01 00:15:00</th>\n",
       "      <th>2016-01-01 00:30:00</th>\n",
       "      <th>2016-01-01 00:45:00</th>\n",
       "      <th>2016-01-01 01:00:00</th>\n",
       "    </tr>\n",
       "  </thead>\n",
       "  <tbody>\n",
       "    <tr>\n",
       "      <th>pickups17_lag1</th>\n",
       "      <td>202.0</td>\n",
       "      <td>394.0</td>\n",
       "      <td>420.0</td>\n",
       "      <td>310.0</td>\n",
       "      <td>403.0</td>\n",
       "    </tr>\n",
       "    <tr>\n",
       "      <th>pickups17_lag2</th>\n",
       "      <td>307.0</td>\n",
       "      <td>202.0</td>\n",
       "      <td>394.0</td>\n",
       "      <td>420.0</td>\n",
       "      <td>310.0</td>\n",
       "    </tr>\n",
       "    <tr>\n",
       "      <th>pickups1_lag1</th>\n",
       "      <td>109.0</td>\n",
       "      <td>162.0</td>\n",
       "      <td>251.0</td>\n",
       "      <td>310.0</td>\n",
       "      <td>338.0</td>\n",
       "    </tr>\n",
       "    <tr>\n",
       "      <th>pickups1_lag2</th>\n",
       "      <td>171.0</td>\n",
       "      <td>109.0</td>\n",
       "      <td>162.0</td>\n",
       "      <td>251.0</td>\n",
       "      <td>310.0</td>\n",
       "    </tr>\n",
       "    <tr>\n",
       "      <th>pickups21_lag1</th>\n",
       "      <td>198.0</td>\n",
       "      <td>312.0</td>\n",
       "      <td>699.0</td>\n",
       "      <td>482.0</td>\n",
       "      <td>459.0</td>\n",
       "    </tr>\n",
       "    <tr>\n",
       "      <th>pickups21_lag2</th>\n",
       "      <td>306.0</td>\n",
       "      <td>198.0</td>\n",
       "      <td>312.0</td>\n",
       "      <td>699.0</td>\n",
       "      <td>482.0</td>\n",
       "    </tr>\n",
       "    <tr>\n",
       "      <th>pickups28_lag1</th>\n",
       "      <td>40.0</td>\n",
       "      <td>29.0</td>\n",
       "      <td>16.0</td>\n",
       "      <td>3.0</td>\n",
       "      <td>2.0</td>\n",
       "    </tr>\n",
       "    <tr>\n",
       "      <th>pickups28_lag2</th>\n",
       "      <td>54.0</td>\n",
       "      <td>40.0</td>\n",
       "      <td>29.0</td>\n",
       "      <td>16.0</td>\n",
       "      <td>3.0</td>\n",
       "    </tr>\n",
       "    <tr>\n",
       "      <th>temp</th>\n",
       "      <td>40.4</td>\n",
       "      <td>40.4</td>\n",
       "      <td>40.4</td>\n",
       "      <td>40.4</td>\n",
       "      <td>40.4</td>\n",
       "    </tr>\n",
       "    <tr>\n",
       "      <th>prcp</th>\n",
       "      <td>0.03</td>\n",
       "      <td>0.03</td>\n",
       "      <td>0.03</td>\n",
       "      <td>0.03</td>\n",
       "      <td>0.03</td>\n",
       "    </tr>\n",
       "    <tr>\n",
       "      <th>fog</th>\n",
       "      <td>0</td>\n",
       "      <td>0</td>\n",
       "      <td>0</td>\n",
       "      <td>0</td>\n",
       "      <td>0</td>\n",
       "    </tr>\n",
       "    <tr>\n",
       "      <th>rain_drizzle</th>\n",
       "      <td>0</td>\n",
       "      <td>0</td>\n",
       "      <td>0</td>\n",
       "      <td>0</td>\n",
       "      <td>0</td>\n",
       "    </tr>\n",
       "    <tr>\n",
       "      <th>is_weekend</th>\n",
       "      <td>False</td>\n",
       "      <td>False</td>\n",
       "      <td>False</td>\n",
       "      <td>False</td>\n",
       "      <td>False</td>\n",
       "    </tr>\n",
       "    <tr>\n",
       "      <th>time_of_day_afternoon</th>\n",
       "      <td>0</td>\n",
       "      <td>0</td>\n",
       "      <td>0</td>\n",
       "      <td>0</td>\n",
       "      <td>0</td>\n",
       "    </tr>\n",
       "    <tr>\n",
       "      <th>time_of_day_afternoon rush</th>\n",
       "      <td>0</td>\n",
       "      <td>0</td>\n",
       "      <td>0</td>\n",
       "      <td>0</td>\n",
       "      <td>0</td>\n",
       "    </tr>\n",
       "    <tr>\n",
       "      <th>time_of_day_evening</th>\n",
       "      <td>0</td>\n",
       "      <td>0</td>\n",
       "      <td>0</td>\n",
       "      <td>0</td>\n",
       "      <td>0</td>\n",
       "    </tr>\n",
       "    <tr>\n",
       "      <th>time_of_day_lunch time</th>\n",
       "      <td>0</td>\n",
       "      <td>0</td>\n",
       "      <td>0</td>\n",
       "      <td>0</td>\n",
       "      <td>0</td>\n",
       "    </tr>\n",
       "    <tr>\n",
       "      <th>time_of_day_morning</th>\n",
       "      <td>0</td>\n",
       "      <td>0</td>\n",
       "      <td>0</td>\n",
       "      <td>0</td>\n",
       "      <td>0</td>\n",
       "    </tr>\n",
       "    <tr>\n",
       "      <th>time_of_day_morning rush</th>\n",
       "      <td>0</td>\n",
       "      <td>0</td>\n",
       "      <td>0</td>\n",
       "      <td>0</td>\n",
       "      <td>0</td>\n",
       "    </tr>\n",
       "  </tbody>\n",
       "</table>\n",
       "</div>"
      ],
      "text/plain": [
       "datetime                   2016-01-01 00:00:00 2016-01-01 00:15:00  \\\n",
       "pickups17_lag1                           202.0               394.0   \n",
       "pickups17_lag2                           307.0               202.0   \n",
       "pickups1_lag1                            109.0               162.0   \n",
       "pickups1_lag2                            171.0               109.0   \n",
       "pickups21_lag1                           198.0               312.0   \n",
       "pickups21_lag2                           306.0               198.0   \n",
       "pickups28_lag1                            40.0                29.0   \n",
       "pickups28_lag2                            54.0                40.0   \n",
       "temp                                      40.4                40.4   \n",
       "prcp                                      0.03                0.03   \n",
       "fog                                          0                   0   \n",
       "rain_drizzle                                 0                   0   \n",
       "is_weekend                               False               False   \n",
       "time_of_day_afternoon                        0                   0   \n",
       "time_of_day_afternoon rush                   0                   0   \n",
       "time_of_day_evening                          0                   0   \n",
       "time_of_day_lunch time                       0                   0   \n",
       "time_of_day_morning                          0                   0   \n",
       "time_of_day_morning rush                     0                   0   \n",
       "\n",
       "datetime                   2016-01-01 00:30:00 2016-01-01 00:45:00  \\\n",
       "pickups17_lag1                           420.0               310.0   \n",
       "pickups17_lag2                           394.0               420.0   \n",
       "pickups1_lag1                            251.0               310.0   \n",
       "pickups1_lag2                            162.0               251.0   \n",
       "pickups21_lag1                           699.0               482.0   \n",
       "pickups21_lag2                           312.0               699.0   \n",
       "pickups28_lag1                            16.0                 3.0   \n",
       "pickups28_lag2                            29.0                16.0   \n",
       "temp                                      40.4                40.4   \n",
       "prcp                                      0.03                0.03   \n",
       "fog                                          0                   0   \n",
       "rain_drizzle                                 0                   0   \n",
       "is_weekend                               False               False   \n",
       "time_of_day_afternoon                        0                   0   \n",
       "time_of_day_afternoon rush                   0                   0   \n",
       "time_of_day_evening                          0                   0   \n",
       "time_of_day_lunch time                       0                   0   \n",
       "time_of_day_morning                          0                   0   \n",
       "time_of_day_morning rush                     0                   0   \n",
       "\n",
       "datetime                   2016-01-01 01:00:00  \n",
       "pickups17_lag1                           403.0  \n",
       "pickups17_lag2                           310.0  \n",
       "pickups1_lag1                            338.0  \n",
       "pickups1_lag2                            310.0  \n",
       "pickups21_lag1                           459.0  \n",
       "pickups21_lag2                           482.0  \n",
       "pickups28_lag1                             2.0  \n",
       "pickups28_lag2                             3.0  \n",
       "temp                                      40.4  \n",
       "prcp                                      0.03  \n",
       "fog                                          0  \n",
       "rain_drizzle                                 0  \n",
       "is_weekend                               False  \n",
       "time_of_day_afternoon                        0  \n",
       "time_of_day_afternoon rush                   0  \n",
       "time_of_day_evening                          0  \n",
       "time_of_day_lunch time                       0  \n",
       "time_of_day_morning                          0  \n",
       "time_of_day_morning rush                     0  "
      ]
     },
     "execution_count": 66,
     "metadata": {},
     "output_type": "execute_result"
    }
   ],
   "source": [
    "x_train[:5].T"
   ]
  },
  {
   "cell_type": "code",
   "execution_count": 67,
   "metadata": {},
   "outputs": [
    {
     "data": {
      "text/html": [
       "<div>\n",
       "<style scoped>\n",
       "    .dataframe tbody tr th:only-of-type {\n",
       "        vertical-align: middle;\n",
       "    }\n",
       "\n",
       "    .dataframe tbody tr th {\n",
       "        vertical-align: top;\n",
       "    }\n",
       "\n",
       "    .dataframe thead th {\n",
       "        text-align: right;\n",
       "    }\n",
       "</style>\n",
       "<table border=\"1\" class=\"dataframe\">\n",
       "  <thead>\n",
       "    <tr style=\"text-align: right;\">\n",
       "      <th>datetime</th>\n",
       "      <th>2016-05-01 08:00:00</th>\n",
       "      <th>2016-05-01 08:15:00</th>\n",
       "      <th>2016-05-01 08:30:00</th>\n",
       "      <th>2016-05-01 08:45:00</th>\n",
       "      <th>2016-05-01 09:00:00</th>\n",
       "    </tr>\n",
       "  </thead>\n",
       "  <tbody>\n",
       "    <tr>\n",
       "      <th>pickups17_lag1</th>\n",
       "      <td>144.0</td>\n",
       "      <td>160.0</td>\n",
       "      <td>173.0</td>\n",
       "      <td>183.0</td>\n",
       "      <td>197.0</td>\n",
       "    </tr>\n",
       "    <tr>\n",
       "      <th>pickups17_lag2</th>\n",
       "      <td>132.0</td>\n",
       "      <td>144.0</td>\n",
       "      <td>160.0</td>\n",
       "      <td>173.0</td>\n",
       "      <td>183.0</td>\n",
       "    </tr>\n",
       "    <tr>\n",
       "      <th>pickups1_lag1</th>\n",
       "      <td>73.0</td>\n",
       "      <td>68.0</td>\n",
       "      <td>65.0</td>\n",
       "      <td>82.0</td>\n",
       "      <td>67.0</td>\n",
       "    </tr>\n",
       "    <tr>\n",
       "      <th>pickups1_lag2</th>\n",
       "      <td>50.0</td>\n",
       "      <td>73.0</td>\n",
       "      <td>68.0</td>\n",
       "      <td>65.0</td>\n",
       "      <td>82.0</td>\n",
       "    </tr>\n",
       "    <tr>\n",
       "      <th>pickups21_lag1</th>\n",
       "      <td>123.0</td>\n",
       "      <td>160.0</td>\n",
       "      <td>162.0</td>\n",
       "      <td>176.0</td>\n",
       "      <td>231.0</td>\n",
       "    </tr>\n",
       "    <tr>\n",
       "      <th>pickups21_lag2</th>\n",
       "      <td>98.0</td>\n",
       "      <td>123.0</td>\n",
       "      <td>160.0</td>\n",
       "      <td>162.0</td>\n",
       "      <td>176.0</td>\n",
       "    </tr>\n",
       "    <tr>\n",
       "      <th>pickups28_lag1</th>\n",
       "      <td>12.0</td>\n",
       "      <td>35.0</td>\n",
       "      <td>22.0</td>\n",
       "      <td>33.0</td>\n",
       "      <td>81.0</td>\n",
       "    </tr>\n",
       "    <tr>\n",
       "      <th>pickups28_lag2</th>\n",
       "      <td>8.0</td>\n",
       "      <td>12.0</td>\n",
       "      <td>35.0</td>\n",
       "      <td>22.0</td>\n",
       "      <td>33.0</td>\n",
       "    </tr>\n",
       "    <tr>\n",
       "      <th>temp</th>\n",
       "      <td>49.0</td>\n",
       "      <td>49.0</td>\n",
       "      <td>49.0</td>\n",
       "      <td>49.0</td>\n",
       "      <td>49.0</td>\n",
       "    </tr>\n",
       "    <tr>\n",
       "      <th>prcp</th>\n",
       "      <td>0.0</td>\n",
       "      <td>0.0</td>\n",
       "      <td>0.0</td>\n",
       "      <td>0.0</td>\n",
       "      <td>0.0</td>\n",
       "    </tr>\n",
       "    <tr>\n",
       "      <th>fog</th>\n",
       "      <td>0</td>\n",
       "      <td>0</td>\n",
       "      <td>0</td>\n",
       "      <td>0</td>\n",
       "      <td>0</td>\n",
       "    </tr>\n",
       "    <tr>\n",
       "      <th>rain_drizzle</th>\n",
       "      <td>1</td>\n",
       "      <td>1</td>\n",
       "      <td>1</td>\n",
       "      <td>1</td>\n",
       "      <td>1</td>\n",
       "    </tr>\n",
       "    <tr>\n",
       "      <th>is_weekend</th>\n",
       "      <td>True</td>\n",
       "      <td>True</td>\n",
       "      <td>True</td>\n",
       "      <td>True</td>\n",
       "      <td>True</td>\n",
       "    </tr>\n",
       "    <tr>\n",
       "      <th>time_of_day_afternoon</th>\n",
       "      <td>0</td>\n",
       "      <td>0</td>\n",
       "      <td>0</td>\n",
       "      <td>0</td>\n",
       "      <td>0</td>\n",
       "    </tr>\n",
       "    <tr>\n",
       "      <th>time_of_day_afternoon rush</th>\n",
       "      <td>0</td>\n",
       "      <td>0</td>\n",
       "      <td>0</td>\n",
       "      <td>0</td>\n",
       "      <td>0</td>\n",
       "    </tr>\n",
       "    <tr>\n",
       "      <th>time_of_day_evening</th>\n",
       "      <td>0</td>\n",
       "      <td>0</td>\n",
       "      <td>0</td>\n",
       "      <td>0</td>\n",
       "      <td>0</td>\n",
       "    </tr>\n",
       "    <tr>\n",
       "      <th>time_of_day_lunch time</th>\n",
       "      <td>0</td>\n",
       "      <td>0</td>\n",
       "      <td>0</td>\n",
       "      <td>0</td>\n",
       "      <td>0</td>\n",
       "    </tr>\n",
       "    <tr>\n",
       "      <th>time_of_day_morning</th>\n",
       "      <td>1</td>\n",
       "      <td>1</td>\n",
       "      <td>1</td>\n",
       "      <td>1</td>\n",
       "      <td>1</td>\n",
       "    </tr>\n",
       "    <tr>\n",
       "      <th>time_of_day_morning rush</th>\n",
       "      <td>0</td>\n",
       "      <td>0</td>\n",
       "      <td>0</td>\n",
       "      <td>0</td>\n",
       "      <td>0</td>\n",
       "    </tr>\n",
       "  </tbody>\n",
       "</table>\n",
       "</div>"
      ],
      "text/plain": [
       "datetime                   2016-05-01 08:00:00 2016-05-01 08:15:00  \\\n",
       "pickups17_lag1                           144.0               160.0   \n",
       "pickups17_lag2                           132.0               144.0   \n",
       "pickups1_lag1                             73.0                68.0   \n",
       "pickups1_lag2                             50.0                73.0   \n",
       "pickups21_lag1                           123.0               160.0   \n",
       "pickups21_lag2                            98.0               123.0   \n",
       "pickups28_lag1                            12.0                35.0   \n",
       "pickups28_lag2                             8.0                12.0   \n",
       "temp                                      49.0                49.0   \n",
       "prcp                                       0.0                 0.0   \n",
       "fog                                          0                   0   \n",
       "rain_drizzle                                 1                   1   \n",
       "is_weekend                                True                True   \n",
       "time_of_day_afternoon                        0                   0   \n",
       "time_of_day_afternoon rush                   0                   0   \n",
       "time_of_day_evening                          0                   0   \n",
       "time_of_day_lunch time                       0                   0   \n",
       "time_of_day_morning                          1                   1   \n",
       "time_of_day_morning rush                     0                   0   \n",
       "\n",
       "datetime                   2016-05-01 08:30:00 2016-05-01 08:45:00  \\\n",
       "pickups17_lag1                           173.0               183.0   \n",
       "pickups17_lag2                           160.0               173.0   \n",
       "pickups1_lag1                             65.0                82.0   \n",
       "pickups1_lag2                             68.0                65.0   \n",
       "pickups21_lag1                           162.0               176.0   \n",
       "pickups21_lag2                           160.0               162.0   \n",
       "pickups28_lag1                            22.0                33.0   \n",
       "pickups28_lag2                            35.0                22.0   \n",
       "temp                                      49.0                49.0   \n",
       "prcp                                       0.0                 0.0   \n",
       "fog                                          0                   0   \n",
       "rain_drizzle                                 1                   1   \n",
       "is_weekend                                True                True   \n",
       "time_of_day_afternoon                        0                   0   \n",
       "time_of_day_afternoon rush                   0                   0   \n",
       "time_of_day_evening                          0                   0   \n",
       "time_of_day_lunch time                       0                   0   \n",
       "time_of_day_morning                          1                   1   \n",
       "time_of_day_morning rush                     0                   0   \n",
       "\n",
       "datetime                   2016-05-01 09:00:00  \n",
       "pickups17_lag1                           197.0  \n",
       "pickups17_lag2                           183.0  \n",
       "pickups1_lag1                             67.0  \n",
       "pickups1_lag2                             82.0  \n",
       "pickups21_lag1                           231.0  \n",
       "pickups21_lag2                           176.0  \n",
       "pickups28_lag1                            81.0  \n",
       "pickups28_lag2                            33.0  \n",
       "temp                                      49.0  \n",
       "prcp                                       0.0  \n",
       "fog                                          0  \n",
       "rain_drizzle                                 1  \n",
       "is_weekend                                True  \n",
       "time_of_day_afternoon                        0  \n",
       "time_of_day_afternoon rush                   0  \n",
       "time_of_day_evening                          0  \n",
       "time_of_day_lunch time                       0  \n",
       "time_of_day_morning                          1  \n",
       "time_of_day_morning rush                     0  "
      ]
     },
     "execution_count": 67,
     "metadata": {},
     "output_type": "execute_result"
    }
   ],
   "source": [
    "x_test[:5].T"
   ]
  },
  {
   "cell_type": "markdown",
   "metadata": {},
   "source": [
    "...and now the ys are trivial"
   ]
  },
  {
   "cell_type": "code",
   "execution_count": 68,
   "metadata": {},
   "outputs": [],
   "source": [
    "y_train=training['stress']\n",
    "\n",
    "y_test=test['stress']"
   ]
  },
  {
   "cell_type": "markdown",
   "metadata": {},
   "source": [
    "To make sure you understood, do you want to see what's inside these two vectors?"
   ]
  },
  {
   "cell_type": "code",
   "execution_count": 69,
   "metadata": {},
   "outputs": [
    {
     "data": {
      "text/plain": [
       "datetime\n",
       "2016-01-01 00:00:00    False\n",
       "2016-01-01 00:15:00    False\n",
       "2016-01-01 00:30:00    False\n",
       "2016-01-01 00:45:00     True\n",
       "2016-01-01 01:00:00     True\n",
       "Name: stress, dtype: bool"
      ]
     },
     "execution_count": 69,
     "metadata": {},
     "output_type": "execute_result"
    }
   ],
   "source": [
    "y_train[:5]"
   ]
  },
  {
   "cell_type": "markdown",
   "metadata": {},
   "source": [
    "Ok, we have our Xs and Ys! Ready to go... it's totally trivial with sklearn:"
   ]
  },
  {
   "cell_type": "code",
   "execution_count": 70,
   "metadata": {},
   "outputs": [
    {
     "data": {
      "text/plain": [
       "LogisticRegression(max_iter=100000)"
      ]
     },
     "execution_count": 70,
     "metadata": {},
     "output_type": "execute_result"
    }
   ],
   "source": [
    "LogReg.fit(x_train, y_train)"
   ]
  },
  {
   "cell_type": "markdown",
   "metadata": {},
   "source": [
    "Congrats! You trained your first Logistic Regression model. What's its accuracy (**on the test set**)?"
   ]
  },
  {
   "cell_type": "code",
   "execution_count": 71,
   "metadata": {},
   "outputs": [
    {
     "data": {
      "text/plain": [
       "0.9479739010989011"
      ]
     },
     "execution_count": 71,
     "metadata": {},
     "output_type": "execute_result"
    }
   ],
   "source": [
    "LogReg.score(x_test,y_test)"
   ]
  },
  {
   "cell_type": "markdown",
   "metadata": {},
   "source": [
    "Do you want to try it on the training set? What do you expect?"
   ]
  },
  {
   "cell_type": "code",
   "execution_count": 72,
   "metadata": {},
   "outputs": [
    {
     "data": {
      "text/plain": [
       "0.9550995879120879"
      ]
     },
     "execution_count": 72,
     "metadata": {},
     "output_type": "execute_result"
    }
   ],
   "source": [
    "LogReg.score(x_train, y_train)"
   ]
  },
  {
   "cell_type": "markdown",
   "metadata": {},
   "source": [
    "If the values tend to be similar, then congrats, it's very likely that your model is not overfitting! :-)\n",
    "\n"
   ]
  },
  {
   "cell_type": "markdown",
   "metadata": {},
   "source": [
    " \n"
   ]
  },
  {
   "cell_type": "markdown",
   "metadata": {},
   "source": [
    "Anyway, accuracy is not everything in a classifier. Another VERY interesting concept is the confusion matrix"
   ]
  },
  {
   "cell_type": "code",
   "execution_count": 73,
   "metadata": {},
   "outputs": [],
   "source": [
    "from sklearn.metrics import confusion_matrix, ConfusionMatrixDisplay"
   ]
  },
  {
   "cell_type": "markdown",
   "metadata": {},
   "source": [
    "To use it properly, let's first obain the predictions of our model using the test set:"
   ]
  },
  {
   "cell_type": "code",
   "execution_count": 74,
   "metadata": {},
   "outputs": [],
   "source": [
    "ypred=LogReg.predict(x_test)"
   ]
  },
  {
   "cell_type": "markdown",
   "metadata": {},
   "source": [
    "Now, we can compare the predictions with the observations, using the confusion matrix"
   ]
  },
  {
   "cell_type": "code",
   "execution_count": 75,
   "metadata": {},
   "outputs": [
    {
     "data": {
      "text/plain": [
       "array([[5086,  150],\n",
       "       [ 153,  435]], dtype=int64)"
      ]
     },
     "execution_count": 75,
     "metadata": {},
     "output_type": "execute_result"
    }
   ],
   "source": [
    "cm = confusion_matrix(y_test, ypred)\n",
    "cm"
   ]
  },
  {
   "cell_type": "markdown",
   "metadata": {},
   "source": [
    "Important: pay attention to the rows and columns in the confusion matrix. The format that Sklearn uses is different from what we had in the slides - the rows represent actual (true) values and the columns represent predicted values.\n",
    "You can see the documentation here: https://scikit-learn.org/stable/modules/generated/sklearn.metrics.confusion_matrix.html\n",
    "\n",
    "Alternatively, we can also plot the confusion matrix just to be sure:"
   ]
  },
  {
   "cell_type": "code",
   "execution_count": 76,
   "metadata": {},
   "outputs": [
    {
     "data": {
      "text/plain": [
       "<sklearn.metrics._plot.confusion_matrix.ConfusionMatrixDisplay at 0x1f12cd1ab20>"
      ]
     },
     "execution_count": 76,
     "metadata": {},
     "output_type": "execute_result"
    },
    {
     "data": {
      "image/png": "[encoded data removed]",
      "text/plain": [
       "<Figure size 432x288 with 2 Axes>"
      ]
     },
     "metadata": {
      "needs_background": "light"
     },
     "output_type": "display_data"
    }
   ],
   "source": [
    "display = ConfusionMatrixDisplay(cm)\n",
    "display.plot()  "
   ]
  },
  {
   "cell_type": "markdown",
   "metadata": {},
   "source": [
    "A last useful thing about Logistic Regression. It is a parametric model, so its parameters beta (its \"coefficients\") can actually mean something. Let's take a look at them:"
   ]
  },
  {
   "cell_type": "code",
   "execution_count": 77,
   "metadata": {},
   "outputs": [
    {
     "data": {
      "text/plain": [
       "array([[ 2.74794221e-03, -2.73612828e-03,  4.82917080e-02,\n",
       "         1.22938053e-02,  3.03649103e-03,  1.18975746e-03,\n",
       "         1.50325346e-03, -3.17648380e-03,  9.80226428e-03,\n",
       "        -1.39210199e-01, -8.01974701e-02,  3.98064211e-02,\n",
       "        -6.00044594e-01, -6.04452294e-01,  1.33639500e+00,\n",
       "         6.76008996e-01,  2.35303445e-01,  3.42121849e-01,\n",
       "        -1.25091410e-01]])"
      ]
     },
     "execution_count": 77,
     "metadata": {},
     "output_type": "execute_result"
    }
   ],
   "source": [
    "LogReg.coef_"
   ]
  },
  {
   "cell_type": "markdown",
   "metadata": {},
   "source": [
    "This is a bit confusing. Which coefficient corresponds to which variable? Let's make it more interpretable:"
   ]
  },
  {
   "cell_type": "code",
   "execution_count": 78,
   "metadata": {},
   "outputs": [
    {
     "name": "stdout",
     "output_type": "stream",
     "text": [
      "pickups17_lag1=0.003\n",
      "pickups17_lag2=-0.003\n",
      "pickups1_lag1=0.048\n",
      "pickups1_lag2=0.012\n",
      "pickups21_lag1=0.003\n",
      "pickups21_lag2=0.001\n",
      "pickups28_lag1=0.002\n",
      "pickups28_lag2=-0.003\n",
      "temp=0.010\n",
      "prcp=-0.139\n",
      "fog=-0.080\n",
      "rain_drizzle=0.040\n",
      "is_weekend=-0.600\n",
      "time_of_day_afternoon=-0.604\n",
      "time_of_day_afternoon rush=1.336\n",
      "time_of_day_evening=0.676\n",
      "time_of_day_lunch time=0.235\n",
      "time_of_day_morning=0.342\n",
      "time_of_day_morning rush=-0.125\n"
     ]
    }
   ],
   "source": [
    "for cname, val in zip(x_train.columns, LogReg.coef_.tolist()[0]):\n",
    "    print(\"%s=%.3f\"%(cname, val))"
   ]
  },
  {
   "cell_type": "markdown",
   "metadata": {},
   "source": [
    "What do you think of the results? Take a look at the signs. Do they make sense? Try to play with the stress_threshold above (instead of 90 percentile, you can try others...)"
   ]
  },
  {
   "cell_type": "code",
   "execution_count": null,
   "metadata": {},
   "outputs": [],
   "source": []
  },
  {
   "cell_type": "markdown",
   "metadata": {},
   "source": [
    "------"
   ]
  },
  {
   "cell_type": "markdown",
   "metadata": {},
   "source": [
    "## Part 2 - Support Vector Machines\n"
   ]
  },
  {
   "cell_type": "markdown",
   "metadata": {},
   "source": [
    "For the rest of the notebook, we will add the dummy that we left out earlier 'time_of_day_night':"
   ]
  },
  {
   "cell_type": "code",
   "execution_count": 38,
   "metadata": {},
   "outputs": [],
   "source": [
    "x_train=training[['pickups17_lag1', 'pickups17_lag2', 'pickups1_lag1',\n",
    "       'pickups1_lag2', 'pickups21_lag1', 'pickups21_lag2', 'pickups28_lag1',\n",
    "       'pickups28_lag2',  'temp', 'prcp','fog', 'rain_drizzle', 'is_weekend', 'time_of_day_afternoon',\n",
    "       'time_of_day_afternoon rush', 'time_of_day_evening',\n",
    "       'time_of_day_lunch time', 'time_of_day_morning',\n",
    "       'time_of_day_morning rush','time_of_day_night']]\n",
    "x_test=test[['pickups17_lag1', 'pickups17_lag2', 'pickups1_lag1',\n",
    "       'pickups1_lag2', 'pickups21_lag1', 'pickups21_lag2', 'pickups28_lag1',\n",
    "       'pickups28_lag2',  'temp', 'prcp','fog', 'rain_drizzle', 'is_weekend', 'time_of_day_afternoon',\n",
    "       'time_of_day_afternoon rush', 'time_of_day_evening',\n",
    "       'time_of_day_lunch time', 'time_of_day_morning',\n",
    "       'time_of_day_morning rush','time_of_day_night']]"
   ]
  },
  {
   "cell_type": "markdown",
   "metadata": {},
   "source": [
    "In Part 1, we did almost everything for you. But now, we'll just help you with the import:"
   ]
  },
  {
   "cell_type": "code",
   "execution_count": 39,
   "metadata": {},
   "outputs": [],
   "source": [
    "from sklearn.svm import SVC"
   ]
  },
  {
   "cell_type": "markdown",
   "metadata": {},
   "source": [
    "Create the object"
   ]
  },
  {
   "cell_type": "code",
   "execution_count": 40,
   "metadata": {},
   "outputs": [],
   "source": [
    "sv=SVC()"
   ]
  },
  {
   "cell_type": "markdown",
   "metadata": {},
   "source": [
    "Remember that SVM's rely on computing 'distances' between features. Hence, it is critical that your data is standardized. Can you standardize the data first? "
   ]
  },
  {
   "cell_type": "code",
   "execution_count": 42,
   "metadata": {},
   "outputs": [],
   "source": [
    "x_train_standard=(x_train-x_train.mean())/x_train.std()\n",
    "x_test_standard=(x_test-x_train.mean())/x_train.std() # Remember to use x_train to standardise."
   ]
  },
  {
   "cell_type": "markdown",
   "metadata": {},
   "source": [
    "Train the model"
   ]
  },
  {
   "cell_type": "code",
   "execution_count": 43,
   "metadata": {},
   "outputs": [
    {
     "data": {
      "text/plain": [
       "SVC()"
      ]
     },
     "execution_count": 43,
     "metadata": {},
     "output_type": "execute_result"
    }
   ],
   "source": [
    "sv.fit(x_train_standard,y_train)"
   ]
  },
  {
   "cell_type": "markdown",
   "metadata": {},
   "source": [
    "Check its accuracy"
   ]
  },
  {
   "cell_type": "code",
   "execution_count": 44,
   "metadata": {},
   "outputs": [
    {
     "data": {
      "text/plain": [
       "0.9436813186813187"
      ]
     },
     "execution_count": 44,
     "metadata": {},
     "output_type": "execute_result"
    }
   ],
   "source": [
    "sv.score(x_test_standard, y_test)"
   ]
  },
  {
   "cell_type": "markdown",
   "metadata": {},
   "source": [
    "Check its confusion matrix"
   ]
  },
  {
   "cell_type": "code",
   "execution_count": 46,
   "metadata": {},
   "outputs": [
    {
     "data": {
      "text/plain": [
       "array([[5121,  115],\n",
       "       [ 213,  375]], dtype=int64)"
      ]
     },
     "execution_count": 46,
     "metadata": {},
     "output_type": "execute_result"
    }
   ],
   "source": [
    "ypred=sv.predict(x_test_standard)\n",
    "confusion_matrix(y_test, ypred)"
   ]
  },
  {
   "cell_type": "markdown",
   "metadata": {},
   "source": [
    "Is this model better than the Logistic regression model? Look at both the f1 score and the confusion matrix. In this case, do you care more about false positives or false negatives?"
   ]
  }
 ],
 "metadata": {
  "kernelspec": {
   "display_name": "Python 3",
   "language": "python",
   "name": "python3"
  },
  "language_info": {
   "codemirror_mode": {
    "name": "ipython",
    "version": 3
   },
   "file_extension": ".py",
   "mimetype": "text/x-python",
   "name": "python",
   "nbconvert_exporter": "python",
   "pygments_lexer": "ipython3",
   "version": "3.8.8"
  },
  "vscode": {
   "interpreter": {
    "hash": "cbd93dcc105eac43ef8e713696b84b4d4c02dedb43b4d347f8dcfe1c7621a4eb"
   }
  }
 },
 "nbformat": 4,
 "nbformat_minor": 4
}
